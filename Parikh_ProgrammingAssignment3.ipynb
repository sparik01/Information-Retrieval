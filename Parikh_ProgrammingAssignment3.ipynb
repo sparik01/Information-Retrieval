{
 "cells": [
  {
   "cell_type": "markdown",
   "metadata": {},
   "source": [
    "# Information Retrieval: Programming Assignment \\#3"
   ]
  },
  {
   "cell_type": "markdown",
   "metadata": {},
   "source": [
    "### Sheetal Parikh\n",
    "EN.605.744.81<br>\n",
    "October 18, 2021\n",
    "***\n",
    "***"
   ]
  },
  {
   "cell_type": "code",
   "execution_count": 1,
   "metadata": {},
   "outputs": [],
   "source": [
    "#imports for notebook\n",
    "import sys\n",
    "import re\n",
    "import nltk\n",
    "import os\n",
    "import string\n",
    "import struct\n",
    "import numpy as np\n",
    "import pandas as pd\n",
    "import re\n",
    "import math\n",
    "import argparse\n",
    "\n",
    "from bs4 import BeautifulSoup\n",
    "from nltk.corpus import stopwords\n",
    "from nltk.tokenize import word_tokenize\n",
    "from collections import Counter\n",
    "from nltk.stem import PorterStemmer\n",
    "from collections import Counter, namedtuple\n",
    "\n",
    "# change the current directory \n",
    "# to specified directory \n",
    "os.chdir(r\"C:\\Users\\Sheetal\\Documents\\Sheetal\\datasets\") \n",
    "\n",
    "#checking current directory\n",
    "#print(os.getcwd() + \"\\n\")\n",
    "\n",
    "#direct path to headlines file\n",
    "#filepath_docs = '/Users/Sheetal/Documents/Sheetal/datasets/cord19.txt'\n",
    "#filepath_docs = '/Users/Sheetal/Documents/Sheetal/datasets/animal.txt'\n",
    "filepath_keyword = '/Users/Sheetal/Documents/Sheetal/datasets/cord19_topics_keyword.txt'\n",
    "filepath_question = '/Users/Sheetal/Documents/Sheetal/datasets/cord19_topics_question.txt'"
   ]
  },
  {
   "cell_type": "markdown",
   "metadata": {},
   "source": [
    "### Splitting Dataset to Text Files Containing 42% and 58% of the data"
   ]
  },
  {
   "cell_type": "markdown",
   "metadata": {},
   "source": [
    "My computer and program wasn't able to process the entire dataset and I had to split the file into textfiles containing 42% and 58% of the data.  For the assignment I used the 42% dataset.  When I tried creating the postings list and dictionary using the entire dataset, I had to stop the program after 4+ hours because it still hadn't processed."
   ]
  },
  {
   "cell_type": "code",
   "execution_count": 2,
   "metadata": {},
   "outputs": [],
   "source": [
    "#reading the dataset up until ID 15000\n",
    "with open('cord19.txt', 'r', encoding = 'utf8') as file:\n",
    "    text_split = file.read().split('<P ID=80001>')\n",
    "\n",
    "#splitting and writing 42% of the dataset to a text file\n",
    "with open('cord19_perc1.txt', 'w', encoding = 'utf8') as file:\n",
    "    file.write(text_split[0])\n",
    "\n",
    "#splitting and writing 58% of the dataset to a text file\n",
    "with open('cord19_perc2.txt', 'w', encoding = 'utf8') as file:\n",
    "    file.write(text_split[1])"
   ]
  },
  {
   "cell_type": "code",
   "execution_count": 3,
   "metadata": {},
   "outputs": [],
   "source": [
    "filepath_docs = '/Users/Sheetal/Documents/Sheetal/datasets/cord19_perc1.txt'"
   ]
  },
  {
   "cell_type": "markdown",
   "metadata": {},
   "source": [
    "### Creating Postings List and Dictionary"
   ]
  },
  {
   "cell_type": "markdown",
   "metadata": {},
   "source": [
    "The cord19_perc1 text file was preprocessed by having the html tags removed, removing punctuation, applying a stemmmer and removing stop words.  The posting list will be a dictionary that contains the docid and frequency of the word in the document.  The dictionary will be a dictionary that lists the number of documents the term occurs in and the total frequency of the term.  The dictionary and will be created in in the fuction that saves the binary postings list file to disk.  The posting list and dictionary (dictionary objects) will be restructured into the Postings and Words namedtuples to format the data in a more organized way. Similar to the previous assignment, I only used the stemmer as it processed the data faster.  I didn't implement both a lemmatizer and stemmer becauase I thought it would limit the vocabulary.\n",
    "\n",
    "Even after using a corpus that contained 42% of the data, my program still took about 2 hours to create the index."
   ]
  },
  {
   "cell_type": "code",
   "execution_count": 4,
   "metadata": {},
   "outputs": [],
   "source": [
    "import time\n",
    "\n",
    "#start time for calculating the execution time for creating the index\n",
    "start = time.time()\n",
    "\n",
    "#using named tuples to store information in a more organized way\n",
    "#the Posting tuple will store the docid and the frequency of a word in the specific document\n",
    "#the Words tuple will store the # of documents that contain the word and the total frequency of the word in the corpus\n",
    "\n",
    "Postings = namedtuple(\"Posting\", [\"doc_id\", \"word_freq\"])\n",
    "Words = namedtuple(\"Word\", [\"total_docs\", \"offset\"])"
   ]
  },
  {
   "cell_type": "code",
   "execution_count": 5,
   "metadata": {},
   "outputs": [],
   "source": [
    "#importing list of stop words from nltk\n",
    "stop_words = stopwords.words('english')\n",
    "\n",
    "#the PortersStemmer from nlkt will be used to stem the words in the corpus\n",
    "stemmer= PorterStemmer()"
   ]
  },
  {
   "cell_type": "code",
   "execution_count": 6,
   "metadata": {},
   "outputs": [],
   "source": [
    "#preprocessing the text\n",
    "def preprocess(text):\n",
    "    text = re.sub(\"[{}]\".format(string.punctuation), \" \", text)\n",
    "    text = text.split()\n",
    "    text = [stemmer.stem(i) for i in text]\n",
    "    text = [i for i in text if not i in stop_words]\n",
    "\n",
    "    return text"
   ]
  },
  {
   "cell_type": "code",
   "execution_count": 7,
   "metadata": {},
   "outputs": [],
   "source": [
    "#https://stackoverflow.com/questions/36108621/get-all-html-tags-with-beautiful-soup\n",
    "#https://stackoverflow.com/questions/8933863/how-to-find-tags-with-only-certain-attributes-beautifulsoup\n",
    "\n",
    "#function to create postings list\n",
    "\n",
    "#filepath = direct path to file\n",
    "def get_postings_list(filepath):\n",
    "    \n",
    "    #creating postings list dictionary object\n",
    "    postings_list = {}\n",
    "    \n",
    "    #using BeautifulSoup to parse the headlines txt file\n",
    "    #content = BeautifulSoup(open(filepath), \"html.parser\", from_encoding=\"utf-8\")\n",
    "    with open(filepath, encoding='utf8') as infile:\n",
    "        content = BeautifulSoup(infile, \"html.parser\")\n",
    "    \n",
    "\n",
    "    #removing html tags, preprocessing text and saving docids and counts of terms\n",
    "    for i, html_tag in enumerate(content.find_all('p')):\n",
    "        html_tag.attrs['id']\n",
    "        \n",
    "        #preprocessing\n",
    "        text = preprocess(html_tag.text)\n",
    "        vocab = Counter(text)\n",
    "\n",
    "        #adding terms \n",
    "        for term, word_freq in vocab.items():\n",
    "            if not term in postings_list:\n",
    "                postings_list[term] = []\n",
    "\n",
    "            postings_list[term].append(Postings(int(html_tag.attrs['id']), word_freq))\n",
    "\n",
    "    return postings_list"
   ]
  },
  {
   "cell_type": "code",
   "execution_count": 8,
   "metadata": {},
   "outputs": [],
   "source": [
    "#function to save binary postings list to disk and create dictionary\n",
    "\n",
    "def postings_to_disk(postings_list, file_output='postings_list_cord.txt'):\n",
    "    \n",
    "    #creating corpus dictionary object\n",
    "    dictionary = {}\n",
    "\n",
    "    #initial offset\n",
    "    offset_0 = 0\n",
    "    \n",
    "    #writing to file\n",
    "    with open(file_output, 'wb') as file_toDisk:\n",
    "        for term in sorted(postings_list):\n",
    "            \n",
    "            #offset = total documents containing term * 4 bytes\n",
    "            total_docs = len(postings_list[term])\n",
    "            offset = offset_0 * 4\n",
    "\n",
    "            dictionary[term] = Words(total_docs, offset)\n",
    "            offset_0 += total_docs\n",
    "            \n",
    "            #writing output at binary 4 byte unsigned ; most significant byte stored first\n",
    "            for posting in sorted(postings_list[term], key=lambda i: i.doc_id):\n",
    "                file_toDisk.write(posting.doc_id.to_bytes(4, byteorder='big'))\n",
    "                file_toDisk.write(posting.word_freq.to_bytes(4, byteorder='big'))\n",
    "\n",
    "    return dictionary"
   ]
  },
  {
   "cell_type": "code",
   "execution_count": 9,
   "metadata": {},
   "outputs": [],
   "source": [
    "#function to write the dictionary to a file on disk\n",
    "\n",
    "def dictionary_to_disk(dictionary, file_output=\"dictionary_cord.txt\"):\n",
    "    with open(file_output, \"w\", encoding='utf8') as file_toDisk2:\n",
    "        for term in sorted(dictionary):\n",
    "            t = dictionary[term]\n",
    "            file_toDisk2.write(\"{} {} {}\\n\".format(term, t.total_docs, t.offset))"
   ]
  },
  {
   "cell_type": "code",
   "execution_count": 10,
   "metadata": {},
   "outputs": [],
   "source": [
    "#creating postings list\n",
    "postings_list = get_postings_list(filepath_docs)"
   ]
  },
  {
   "cell_type": "code",
   "execution_count": 11,
   "metadata": {},
   "outputs": [],
   "source": [
    "#saving binary postings list to disk as well as creating dictionary\n",
    "dictionary = postings_to_disk(postings_list)"
   ]
  },
  {
   "cell_type": "code",
   "execution_count": 12,
   "metadata": {},
   "outputs": [
    {
     "name": "stdout",
     "output_type": "stream",
     "text": [
      "The time of execution for creating the index is : 122.0054 minutes\n"
     ]
    }
   ],
   "source": [
    "#saving dictionary to a file on disk\n",
    "dictionary_to_disk(dictionary)\n",
    "\n",
    "#end time for creating index\n",
    "end = time.time()\n",
    "\n",
    "#printing execution time\n",
    "print(f'The time of execution for creating the index is : {round((end-start)/60,4)} minutes')"
   ]
  },
  {
   "cell_type": "code",
   "execution_count": 13,
   "metadata": {},
   "outputs": [
    {
     "name": "stdout",
     "output_type": "stream",
     "text": [
      "The size of the dictionary file is: 4.163236 megabytes\n",
      "The size of the postings list file is: 86.77004 megabytes\n",
      "The size of the original COVID corpus file is: 359.302564 megabytes\n",
      "The size of the COVID corpus file used in the assignment is: 150.802235 megabytes\n",
      "The size of the entire index is 59.868959 megabytes smaller than the document file used\n"
     ]
    }
   ],
   "source": [
    "#printing size of dictionary and postings list files in megabytes\n",
    "file_size_dictionary = os.path.getsize('dictionary_cord.txt')\n",
    "file_size_postings = os.path.getsize('postings_list_cord.txt')\n",
    "file_size_original_perc = os.path.getsize('cord19_perc1.txt')\n",
    "file_size_original = os.path.getsize('cord19.txt')\n",
    "file_size_difference = file_size_original_perc - (file_size_postings + file_size_dictionary)\n",
    "\n",
    "print(f'The size of the dictionary file is: {file_size_dictionary/1000000} megabytes')\n",
    "print(f'The size of the postings list file is: {file_size_postings/1000000} megabytes')\n",
    "print(f'The size of the original COVID corpus file is: {file_size_original/1000000} megabytes')\n",
    "print(f'The size of the COVID corpus file used in the assignment is: {file_size_original_perc/1000000} megabytes')\n",
    "print(f'The size of the entire index is {file_size_difference/1000000} megabytes smaller than the document file used')"
   ]
  },
  {
   "cell_type": "markdown",
   "metadata": {},
   "source": [
    "### Summarizing Stats about the Dataset"
   ]
  },
  {
   "cell_type": "markdown",
   "metadata": {},
   "source": [
    "As can be seen above, the dictionary and postings list files combined are smaller than the original COVID corpus text.  The postings list file takes up more space than the dictionary file.  As seen below, there are 79,958 documents.  Since I included all the documents with ID's less than 80,001, I was expecting there to be 80,000 documents.  It's possible that two documents may have not included any of the words included in the vocabulary.\n",
    "\n",
    "<br>\n",
    "I took a screenshot of the printed posting list and dictionary and added it at the end of the notebook.  Keeping the posting list and dictionary displayed in the jupyter notebook was causing print to pdf to crash."
   ]
  },
  {
   "cell_type": "code",
   "execution_count": null,
   "metadata": {},
   "outputs": [],
   "source": [
    "#viewing posting_list - please see screenshot at end of document\n",
    "#postings_list"
   ]
  },
  {
   "cell_type": "code",
   "execution_count": null,
   "metadata": {},
   "outputs": [],
   "source": [
    "#viewing dictionary - please see screenshot at end of document\n",
    "#dictionary"
   ]
  },
  {
   "cell_type": "code",
   "execution_count": 14,
   "metadata": {},
   "outputs": [
    {
     "name": "stdout",
     "output_type": "stream",
     "text": [
      "Total Words: 196764687\n",
      "Total Unique Words: 197478\n",
      "Total Documents/Paragraphs: 79958\n"
     ]
    }
   ],
   "source": [
    "#General cord19_perc1.txt file stats\n",
    "unique_words = len(postings_list.keys())\n",
    "total_words = sum([Word.word_freq for posting in postings_list.values() for Word in posting])\n",
    "total_documents = len(set([Word.doc_id for posting in postings_list.values() for Word in posting]))\n",
    "\n",
    "print(f'Total Words: {total_words}')\n",
    "print(f'Total Unique Words: {unique_words}')\n",
    "print(f'Total Documents/Paragraphs: {total_documents}')"
   ]
  },
  {
   "cell_type": "markdown",
   "metadata": {},
   "source": [
    "### Creating Search Engine"
   ]
  },
  {
   "cell_type": "markdown",
   "metadata": {},
   "source": [
    "The function below takes the query and postings list and returns the document id and similarity score for the top 100 documents using the dot product method due to time constraints."
   ]
  },
  {
   "cell_type": "code",
   "execution_count": 15,
   "metadata": {},
   "outputs": [],
   "source": [
    "#function to compute similarity score of document and query using the dot product method\n",
    "#limit to top 100 documents per query\n",
    "#input the query and postings list\n",
    "def dot_product_rank(query, posting_list, limit=100): \n",
    "    #creating bag of words\n",
    "    bagOfWords_query = Counter(query)\n",
    "    queryVector = [bagOfWords_query[item] for item in sorted(bagOfWords_query.keys())]\n",
    "\n",
    "    doc_freq = []\n",
    "    for key in sorted(bagOfWords_query.keys()):\n",
    "        doc_freq.append(len(posting_list[key]))\n",
    "\n",
    "    scores = dict()\n",
    "    for i, term in enumerate(sorted(bagOfWords_query.keys())):\n",
    "        for posting in posting_list[term]:\n",
    "            #give a score of 0 if can't find \n",
    "            if not posting.doc_id in scores:\n",
    "                scores[posting.doc_id] = 0\n",
    "            else: \n",
    "                #compute dot product\n",
    "                scores[posting.doc_id] += np.dot(queryVector[i],posting.word_freq)\n",
    "                \n",
    "    #sorting the top documents that have a score\n",
    "    ranked_docs = sorted(scores, key=lambda item: scores[item])[::-1]\n",
    "    \n",
    "    #returns the document ind the similarity score for the top 100 documents\n",
    "    return [(doc_id, scores[doc_id]) for doc_id in ranked_docs[:limit]]"
   ]
  },
  {
   "cell_type": "markdown",
   "metadata": {},
   "source": [
    "### Processing Query Keyword Text File"
   ]
  },
  {
   "cell_type": "markdown",
   "metadata": {},
   "source": [
    "As can be seen below, the first query from the keyword text file, includes the words coronovaviru and origin, each of which have a frequency of 1.  The ranking file processed in less than a minute."
   ]
  },
  {
   "cell_type": "code",
   "execution_count": 16,
   "metadata": {},
   "outputs": [
    {
     "name": "stdout",
     "output_type": "stream",
     "text": [
      "Counter({'coronaviru': 1, 'origin': 1})\n"
     ]
    }
   ],
   "source": [
    "#starting time of processing the keyword queries\n",
    "start2 = time.time()\n",
    "\n",
    "#dictionary of the words in the keyword text file\n",
    "queries_keyword = {}\n",
    "\n",
    "#opening and preprocessing query text file\n",
    "with open(\"cord19_topics_keyword.txt\", encoding='utf8') as infile2:\n",
    "    query_content = BeautifulSoup(infile2, \"html.parser\")\n",
    "    #removing html tags\n",
    "    for i, html_tag in enumerate(query_content.find_all('q')):\n",
    "        html_tag.attrs['id']\n",
    "        queries_keyword[int(html_tag.attrs['id'])] = preprocess(html_tag.text)\n",
    "\n",
    "#the first query: the word and frequency of the word in the document\n",
    "first_query_keyword = Counter(queries_keyword[sorted(queries_keyword)[0]])\n",
    "\n",
    "print(first_query_keyword)"
   ]
  },
  {
   "cell_type": "code",
   "execution_count": 17,
   "metadata": {},
   "outputs": [
    {
     "name": "stdout",
     "output_type": "stream",
     "text": [
      "The time of execution for processory the query key word file is: 0.0355 minutes\n"
     ]
    }
   ],
   "source": [
    "#opening text file for writing\n",
    "with open(\"sparikh6-a.txt\", 'w') as outfile:\n",
    "    for query_id in sorted(queries_keyword):\n",
    "        queries = queries_keyword[query_id]\n",
    "        #computing similarity score\n",
    "        sim_scores = dot_product_rank(queries, postings_list)\n",
    "\n",
    "        #writing to the file in the format: queryID Q0 doc_id (\"1 Q0 doc_id rank score jhedID\")\n",
    "        for i, (doc_id, score) in enumerate(sim_scores):\n",
    "            outfile.write(\"{} Q0 {} {} {} sparikh6\\n\".format(query_id, doc_id, i+1, score))\n",
    "            \n",
    "#end time of processing the keyword queries\n",
    "end2 = time.time()\n",
    "\n",
    "print(f'The time of execution for processory the query key word file is: {round((end2-start2)/60,4)} minutes')"
   ]
  },
  {
   "cell_type": "code",
   "execution_count": 18,
   "metadata": {},
   "outputs": [
    {
     "name": "stdout",
     "output_type": "stream",
     "text": [
      "The size of the rankings file is: 0.140187 megabytes\n"
     ]
    }
   ],
   "source": [
    "#printing size of the rankings file\n",
    "file_size_rankings = os.path.getsize('sparikh6-a.txt')\n",
    "print(f'The size of the rankings file is: {file_size_rankings/1000000} megabytes')"
   ]
  },
  {
   "cell_type": "markdown",
   "metadata": {},
   "source": [
    "### Length Experiment: Processing Query Questions Text File"
   ]
  },
  {
   "cell_type": "markdown",
   "metadata": {},
   "source": [
    "As can be seen below, the first query from the keyword text file, includes the words origin, covid, and 19, each of which have a frequency of 1.  Since the corpus includes covid related documents, it may have been beneficial to convert the numbers to words to have a better vocabulary set. The ranking file processed in less than a minute as well.  The file size of the ranking file using the questions text file is a little larger than the query keyword ranking file."
   ]
  },
  {
   "cell_type": "code",
   "execution_count": 19,
   "metadata": {},
   "outputs": [
    {
     "name": "stdout",
     "output_type": "stream",
     "text": [
      "Counter({'origin': 1, 'covid': 1, '19': 1})\n"
     ]
    }
   ],
   "source": [
    "#starting time of processing the question queries\n",
    "start3 = time.time()\n",
    "\n",
    "#dictionary of the words in the question text file\n",
    "queries_questions = {}\n",
    "\n",
    "#opening and preprocessing query text file\n",
    "with open(\"cord19_topics_question.txt\", encoding='utf8') as infile3:\n",
    "    query_content2 = BeautifulSoup(infile3, \"html.parser\")\n",
    "    #removing html tags\n",
    "    for i, html_tag in enumerate(query_content2.find_all('q')):\n",
    "        html_tag.attrs['id']\n",
    "        queries_questions[int(html_tag.attrs['id'])] = preprocess(html_tag.text)\n",
    "        \n",
    "#the first query: the word and frequency of the word in the document\n",
    "first_query_question = Counter(queries_questions[sorted(queries_questions)[0]])\n",
    "\n",
    "print(first_query_question)"
   ]
  },
  {
   "cell_type": "code",
   "execution_count": 20,
   "metadata": {},
   "outputs": [
    {
     "name": "stdout",
     "output_type": "stream",
     "text": [
      "The time of execution for processory the query key word file is: 0.0355 minutes\n"
     ]
    }
   ],
   "source": [
    "#opening text file for writing\n",
    "with open(\"sparikh6-b.txt\", 'w') as outfile:\n",
    "    for query_id in sorted(queries_questions):\n",
    "        queries2 = queries_questions[query_id]\n",
    "        #computing similarity score\n",
    "        sim_scores2 = dot_product_rank(queries2, postings_list)\n",
    "\n",
    "        #writing to the file in the format: queryID Q0 doc_id (\"1 Q0 doc_id rank score jhedID\")\n",
    "        for i, (doc_id, score) in enumerate(sim_scores2):\n",
    "            outfile.write(\"{} Q0 {} {} {} sparikh6\\n\".format(query_id, doc_id, i+1, score))\n",
    "            \n",
    "#end time of processing the keyword queries\n",
    "end3 = time.time()\n",
    "\n",
    "print(f'The time of execution for processory the query key word file is: {round((end2-start2)/60,4)} minutes')"
   ]
  },
  {
   "cell_type": "code",
   "execution_count": 25,
   "metadata": {},
   "outputs": [
    {
     "name": "stdout",
     "output_type": "stream",
     "text": [
      "The size of the rankings file is: 0.142862 megabytes\n"
     ]
    }
   ],
   "source": [
    "#printing size of the rankings file\n",
    "file_size_rankings = os.path.getsize('sparikh6-b.txt')\n",
    "print(f'The size of the rankings file is: {file_size_rankings/1000000} megabytes')"
   ]
  },
  {
   "cell_type": "markdown",
   "metadata": {},
   "source": [
    "#### Comparing the Ranking Files"
   ]
  },
  {
   "cell_type": "markdown",
   "metadata": {},
   "source": [
    "I printed the first 15 rankings from both the ranking file including the keywords and questions."
   ]
  },
  {
   "cell_type": "code",
   "execution_count": 23,
   "metadata": {},
   "outputs": [
    {
     "name": "stdout",
     "output_type": "stream",
     "text": [
      "1 Q0 5330 1 4664 sparikh6\n",
      "\n",
      "1 Q0 12367 2 4000 sparikh6\n",
      "\n",
      "1 Q0 12910 3 3943 sparikh6\n",
      "\n",
      "1 Q0 13000 4 3925 sparikh6\n",
      "\n",
      "1 Q0 13225 5 3916 sparikh6\n",
      "\n",
      "1 Q0 21730 6 3253 sparikh6\n",
      "\n",
      "1 Q0 24056 7 3000 sparikh6\n",
      "\n",
      "1 Q0 29998 8 2522 sparikh6\n",
      "\n",
      "1 Q0 34982 9 2346 sparikh6\n",
      "\n",
      "1 Q0 37364 10 2278 sparikh6\n",
      "\n",
      "1 Q0 37379 11 2277 sparikh6\n",
      "\n",
      "1 Q0 39857 12 2187 sparikh6\n",
      "\n",
      "1 Q0 40567 13 2157 sparikh6\n",
      "\n",
      "1 Q0 42013 14 2117 sparikh6\n",
      "\n",
      "1 Q0 49963 15 1890 sparikh6\n",
      "\n"
     ]
    }
   ],
   "source": [
    "#function for reading n lines from the text file\n",
    "def read_n_lines(filename,n,mode='r+'):\n",
    "    with open(filename) as f:\n",
    "        for i in range(n):\n",
    "            print(f.readline())\n",
    "\n",
    "#read the first 15 rankings of the keyword ranking file\n",
    "read_n_lines('sparikh6-a.txt',15)            "
   ]
  },
  {
   "cell_type": "code",
   "execution_count": 24,
   "metadata": {},
   "outputs": [
    {
     "name": "stdout",
     "output_type": "stream",
     "text": [
      "1 Q0 5330 1 67989 sparikh6\n",
      "\n",
      "1 Q0 12367 2 67156 sparikh6\n",
      "\n",
      "1 Q0 12910 3 67099 sparikh6\n",
      "\n",
      "1 Q0 13000 4 67081 sparikh6\n",
      "\n",
      "1 Q0 13225 5 67072 sparikh6\n",
      "\n",
      "1 Q0 21730 6 66335 sparikh6\n",
      "\n",
      "1 Q0 24056 7 65409 sparikh6\n",
      "\n",
      "1 Q0 29998 8 61852 sparikh6\n",
      "\n",
      "1 Q0 34982 9 59173 sparikh6\n",
      "\n",
      "1 Q0 37364 10 58059 sparikh6\n",
      "\n",
      "1 Q0 37379 11 58047 sparikh6\n",
      "\n",
      "1 Q0 39857 12 56811 sparikh6\n",
      "\n",
      "1 Q0 40567 13 56421 sparikh6\n",
      "\n",
      "1 Q0 42013 14 55580 sparikh6\n",
      "\n",
      "1 Q0 49963 15 51347 sparikh6\n",
      "\n"
     ]
    }
   ],
   "source": [
    "#read the first 15 rankings of the question ranking file\n",
    "read_n_lines('sparikh6-b.txt',15)  "
   ]
  },
  {
   "attachments": {
    "image.png": {
     "image/png": "[encoded data removed]"
    }
   },
   "cell_type": "markdown",
   "metadata": {},
   "source": [
    "##### Screenshot of Postings List and Dictionary\n",
    "![image.png](attachment:image.png)"
   ]
  },
  {
   "cell_type": "markdown",
   "metadata": {},
   "source": [
    "### References\n",
    "https://stackoverflow.com/questions/36108621/get-all-html-tags-with-beautiful-soup\n",
    "\n",
    "https://stackoverflow.com/questions/8933863/how-to-find-tags-with-only-certain-attributes-beautifulsoup\n",
    "\n",
    "https://docs.python.org/3/library/collections.html\n",
    "\n",
    "https://docs.python.org/3/library/string.html\n",
    "\n",
    "https://www.geeksforgeeks.org/how-to-convert-int-to-bytes-in-python/\n",
    "\n",
    "https://towardsdatascience.com/python-pro-tip-start-using-python-defaultdict-and-counter-in-place-of-dictionary-d1922513f747\n",
    "\n",
    "https://realpython.com/python-namedtuple/\n",
    "\n",
    "https://medium.com/analytics-vidhya/python-list-vs-tuple-vs-dictionary-4a48655c7934\n",
    "\n",
    "https://stackoverflow.com/questions/8710456/reading-a-binary-file-with-python\n",
    "\n",
    "https://www.geeksforgeeks.org/how-to-get-file-size-in-python/\n",
    "\n",
    "https://stackoverflow.com/questions/30750843/python-3-unicodedecodeerror-charmap-codec-cant-decode-byte-0x9d\n",
    "\n",
    "https://stackoverflow.com/questions/52545749/splitting-a-file-into-multiple-files-with-a-key-word-using-python"
   ]
  },
  {
   "cell_type": "code",
   "execution_count": null,
   "metadata": {},
   "outputs": [],
   "source": []
  }
 ],
 "metadata": {
  "kernelspec": {
   "display_name": "Python 3",
   "language": "python",
   "name": "python3"
  },
  "language_info": {
   "codemirror_mode": {
    "name": "ipython",
    "version": 3
   },
   "file_extension": ".py",
   "mimetype": "text/x-python",
   "name": "python",
   "nbconvert_exporter": "python",
   "pygments_lexer": "ipython3",
   "version": "3.8.3"
  }
 },
 "nbformat": 4,
 "nbformat_minor": 4
}
