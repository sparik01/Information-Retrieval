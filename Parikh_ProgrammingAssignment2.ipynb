{
 "cells": [
  {
   "cell_type": "markdown",
   "metadata": {},
   "source": [
    "# Information Retrieval: Programming Assignment \\#2"
   ]
  },
  {
   "cell_type": "markdown",
   "metadata": {},
   "source": [
    "### Sheetal Parikh\n",
    "EN.605.744.81<br>\n",
    "September 20, 2021\n",
    "***\n",
    "***"
   ]
  },
  {
   "cell_type": "code",
   "execution_count": 1,
   "metadata": {},
   "outputs": [],
   "source": [
    "#imports for notebook\n",
    "import sys\n",
    "import re\n",
    "import nltk\n",
    "import os\n",
    "import string\n",
    "import struct\n",
    "import numpy as np\n",
    "import pandas as pd\n",
    "import re\n",
    "import math\n",
    "import argparse\n",
    "\n",
    "from bs4 import BeautifulSoup\n",
    "from nltk.corpus import stopwords\n",
    "from nltk.tokenize import word_tokenize\n",
    "from collections import Counter\n",
    "#from nltk.stem import WordNetLemmatizer\n",
    "from nltk.stem import PorterStemmer\n",
    "from collections import Counter, namedtuple\n",
    "#nltk.download('wordnet')\n",
    "\n",
    "# change the current directory \n",
    "# to specified directory \n",
    "os.chdir(r\"C:\\Users\\Sheetal\\Documents\\Sheetal\\datasets\") \n",
    "\n",
    "#checking current directory\n",
    "#print(os.getcwd() + \"\\n\")\n",
    "\n",
    "#direct path to headlines file\n",
    "filepath = '/Users/Sheetal/Documents/Sheetal/datasets/headlines.txt'"
   ]
  },
  {
   "cell_type": "markdown",
   "metadata": {},
   "source": [
    "### Creating Postings List and Dictionary"
   ]
  },
  {
   "cell_type": "markdown",
   "metadata": {},
   "source": [
    "The headlines text file was preprocessed by having the html tags removed, removing punctuation, applying a stemmmer and removing stop words.  The posting list will be a dictionary that contains the docid and frequency of the word in the document.  The dictionary will be a dictionary that lists the number of documents the term occurs in and the total frequency of the term.  The dictionary and will be created in in the fuction that saves the binary postings list file to disk.  The posting list and dictionary (dictionary objects) will be restructured into the Postings and Words namedtuples to format the data in a more organized way. In the previous assignment I had used a lemmatizer when preprocessing the data.  I decided to use a stemmer as it processed the data faster.  I didn't implement both a lemmatizer and stemmer becauase I thought it would limit the vocabulary."
   ]
  },
  {
   "cell_type": "code",
   "execution_count": 2,
   "metadata": {},
   "outputs": [],
   "source": [
    "#using named tuples to store information in a more organized way\n",
    "#the Posting tuple will store the docid and the frequency of a word in the specific document\n",
    "#the Words tuple will store the # of documents that contain the word and the total frequency of the word in the corpus\n",
    "\n",
    "Postings = namedtuple(\"Posting\", [\"doc_id\", \"word_freq\"])\n",
    "Words = namedtuple(\"Word\", [\"total_docs\", \"offset\"])"
   ]
  },
  {
   "cell_type": "code",
   "execution_count": 3,
   "metadata": {},
   "outputs": [],
   "source": [
    "#importing list of stop words from nltk\n",
    "stop_words = stopwords.words('english')\n",
    "\n",
    "#the PortersStemmer from nlkt will be used to stem the words in the corpus\n",
    "stemmer= PorterStemmer()"
   ]
  },
  {
   "cell_type": "code",
   "execution_count": 4,
   "metadata": {},
   "outputs": [],
   "source": [
    "#preprocessing the text\n",
    "def preprocess(text):\n",
    "    text = re.sub(\"[{}]\".format(string.punctuation), \" \", text)\n",
    "    text = text.split()\n",
    "    text = [stemmer.stem(i) for i in text]\n",
    "    text = [i for i in text if not i in stop_words]\n",
    "\n",
    "    return text"
   ]
  },
  {
   "cell_type": "code",
   "execution_count": 5,
   "metadata": {},
   "outputs": [],
   "source": [
    "#https://stackoverflow.com/questions/36108621/get-all-html-tags-with-beautiful-soup\n",
    "#https://stackoverflow.com/questions/8933863/how-to-find-tags-with-only-certain-attributes-beautifulsoup\n",
    "\n",
    "#function to create postings list\n",
    "\n",
    "#filepath = direct path to file\n",
    "def get_postings_list(filepath):\n",
    "    \n",
    "    #creating postings list dictionary object\n",
    "    postings_list = {}\n",
    "    \n",
    "    #using BeautifulSoup to parse the headlines txt file\n",
    "    content = BeautifulSoup(open(filepath), \"html.parser\")\n",
    "\n",
    "    #removing html tags, preprocessing text and saving docids and counts of terms\n",
    "    for i, html_tag in enumerate(content.find_all('p')):\n",
    "        html_tag.attrs['id']\n",
    "        \n",
    "        #preprocessing\n",
    "        text = preprocess(html_tag.text)\n",
    "        vocab = Counter(text)\n",
    "\n",
    "        #adding terms \n",
    "        for term, word_freq in vocab.items():\n",
    "            if not term in postings_list:\n",
    "                postings_list[term] = []\n",
    "\n",
    "            postings_list[term].append(Postings(int(html_tag.attrs['id']), word_freq))\n",
    "\n",
    "    return postings_list"
   ]
  },
  {
   "cell_type": "code",
   "execution_count": 6,
   "metadata": {},
   "outputs": [],
   "source": [
    "#function to save binary postings list to disk and create dictionary\n",
    "\n",
    "def postings_to_disk(postings_list, file_output='postings_list.txt'):\n",
    "    \n",
    "    #creating corpus dictionary object\n",
    "    dictionary = {}\n",
    "\n",
    "    #initial offset\n",
    "    offset_0 = 0\n",
    "    \n",
    "    #writing to file\n",
    "    with open(file_output, 'wb') as file_toDisk:\n",
    "        for term in sorted(postings_list):\n",
    "            \n",
    "            #offset = total documents containing term * 4 bytes\n",
    "            total_docs = len(postings_list[term])\n",
    "            offset = offset_0 * 4\n",
    "\n",
    "            dictionary[term] = Words(total_docs, offset)\n",
    "            offset_0 += total_docs\n",
    "            \n",
    "            #writing output at binary 4 byte unsigned ; most significant byte stored first\n",
    "            for posting in sorted(postings_list[term], key=lambda i: i.doc_id):\n",
    "                file_toDisk.write(posting.doc_id.to_bytes(4, byteorder='big'))\n",
    "                file_toDisk.write(posting.word_freq.to_bytes(4, byteorder='big'))\n",
    "\n",
    "    return dictionary"
   ]
  },
  {
   "cell_type": "code",
   "execution_count": 7,
   "metadata": {},
   "outputs": [],
   "source": [
    "#function to write the dictionary to a file on disk\n",
    "\n",
    "def dictionary_to_disk(dictionary, file_output=\"dictionary.txt\"):\n",
    "    with open(file_output, \"w\") as file_toDisk2:\n",
    "        for term in sorted(dictionary):\n",
    "            t = dictionary[term]\n",
    "            file_toDisk2.write(\"{} {} {}\\n\".format(term, t.total_docs, t.offset))"
   ]
  },
  {
   "cell_type": "code",
   "execution_count": 8,
   "metadata": {},
   "outputs": [],
   "source": [
    "#creating postings list\n",
    "postings_list = get_postings_list(filepath)"
   ]
  },
  {
   "cell_type": "code",
   "execution_count": 9,
   "metadata": {},
   "outputs": [],
   "source": [
    "#saving binary postings list to disk as well as creating dictionary\n",
    "dictionary = postings_to_disk(postings_list)"
   ]
  },
  {
   "cell_type": "code",
   "execution_count": 10,
   "metadata": {},
   "outputs": [],
   "source": [
    "#saving dictionary to a file on disk\n",
    "dictionary_to_disk(dictionary)"
   ]
  },
  {
   "cell_type": "code",
   "execution_count": 11,
   "metadata": {},
   "outputs": [
    {
     "name": "stdout",
     "output_type": "stream",
     "text": [
      "The size of the dictionary file is: 2294794 bytes\n",
      "The size of the postings list file is: 29698712 bytes\n",
      "The size of the original headlines file is: 39381610 bytes\n",
      "The size of the entire index is 7388104 bytes smaller than the original headlines file\n"
     ]
    }
   ],
   "source": [
    "#printing size of dictionary and postings list files\n",
    "file_size_dictionary = os.path.getsize('dictionary.txt')\n",
    "file_size_postings = os.path.getsize('postings_list.txt')\n",
    "file_size_headlines = os.path.getsize('headlines.txt')\n",
    "file_size_difference = file_size_headlines - (file_size_postings + file_size_dictionary)\n",
    "\n",
    "print(f'The size of the dictionary file is: {file_size_dictionary} bytes')\n",
    "print(f'The size of the postings list file is: {file_size_postings} bytes')\n",
    "print(f'The size of the original headlines file is: {file_size_headlines} bytes')\n",
    "print(f'The size of the entire index is {file_size_difference} bytes smaller than the original headlines file')"
   ]
  },
  {
   "cell_type": "markdown",
   "metadata": {},
   "source": [
    "### Summary: Results and Testing"
   ]
  },
  {
   "cell_type": "markdown",
   "metadata": {},
   "source": [
    "As can be seen above, the dictionary and postings list files combined are smaller than the original headlines text.  The postings list file takes up more space than the dictionary file.  \n",
    "<br>\n",
    "The total number of words in the preprocessed text as well as the vocabulary (unique words) are smaller than what I had determined in the first programming assignment.  This could be due to using a stemmer instead of a lemmatizer and removing stop words. The number of documents/paragraphs determined for this assignment were also lower than the first assignment.  I was expecting 500,000 documents however, I am getting 499,911 documents.  It may be possible that several documents had many stop words or common words, removing a few documents. Also, since the postings list contains unique words, the word frequency in each document is primarily 1.\n",
    "<br>\n",
    "\n",
    "For searching for the test terms in the index, I had to search only for the lowercase versions of each word.  The PortStemmer converted all the words to lowercase. The words college, hopkins and trondheim were not found.  The term brown occured in 1083 documents which was the most of any of the other words tested.\n",
    "<br>\n",
    "\n",
    "I took a screenshot of the printed posting list and dictionary and added it at the end of the notebook.  Keeping the posting list and dictionary displayed in the jupyter notebook was causing print to pdf to crash."
   ]
  },
  {
   "cell_type": "code",
   "execution_count": 12,
   "metadata": {},
   "outputs": [],
   "source": [
    "#viewing posting_list - please see screenshot at end of document\n",
    "#postings_list"
   ]
  },
  {
   "cell_type": "code",
   "execution_count": 13,
   "metadata": {},
   "outputs": [],
   "source": [
    "#viewing dictionary - please see screenshot at end of document\n",
    "#dictionary"
   ]
  },
  {
   "cell_type": "code",
   "execution_count": 14,
   "metadata": {},
   "outputs": [
    {
     "name": "stdout",
     "output_type": "stream",
     "text": [
      "Total Words: 3765689\n",
      "Total Unique Words: 120930\n",
      "Total Documents/Paragraphs: 499911\n"
     ]
    }
   ],
   "source": [
    "#General headlines.txt file stats\n",
    "unique_words = len(postings_list.keys())\n",
    "total_words = sum([Word.word_freq for posting in postings_list.values() for Word in posting])\n",
    "total_documents = len(set([Word.doc_id for posting in postings_list.values() for Word in posting]))\n",
    "\n",
    "print(f'Total Words: {total_words}')\n",
    "print(f'Total Unique Words: {unique_words}')\n",
    "print(f'Total Documents/Paragraphs: {total_documents}')"
   ]
  },
  {
   "cell_type": "code",
   "execution_count": 15,
   "metadata": {},
   "outputs": [],
   "source": [
    "#functions to print results of testing terms - catches error and returns message if the testing word is not found\n",
    "\n",
    "def test_posting_list(term):\n",
    "    try:\n",
    "        test = postings_list[term]\n",
    "    except KeyError:\n",
    "        print(\"Word is not in the postings list\")\n",
    "    else:\n",
    "        return test\n",
    "    \n",
    "def test_dictionary(term):\n",
    "    try:\n",
    "        test2 = dictionary[term]\n",
    "    except KeyError:\n",
    "        print(\"Word is not in the dictionary\")\n",
    "    else:\n",
    "        return test2\n"
   ]
  },
  {
   "cell_type": "markdown",
   "metadata": {},
   "source": [
    "#### Heidelberg"
   ]
  },
  {
   "cell_type": "code",
   "execution_count": 16,
   "metadata": {},
   "outputs": [
    {
     "data": {
      "text/plain": [
       "[Posting(doc_id=114330, word_freq=1),\n",
       " Posting(doc_id=135134, word_freq=1),\n",
       " Posting(doc_id=174781, word_freq=1),\n",
       " Posting(doc_id=221100, word_freq=1),\n",
       " Posting(doc_id=243838, word_freq=1),\n",
       " Posting(doc_id=285521, word_freq=1),\n",
       " Posting(doc_id=295687, word_freq=1),\n",
       " Posting(doc_id=452546, word_freq=1),\n",
       " Posting(doc_id=491140, word_freq=1),\n",
       " Posting(doc_id=491279, word_freq=1)]"
      ]
     },
     "execution_count": 16,
     "metadata": {},
     "output_type": "execute_result"
    }
   ],
   "source": [
    "test_posting_list('heidelberg')"
   ]
  },
  {
   "cell_type": "code",
   "execution_count": 17,
   "metadata": {},
   "outputs": [
    {
     "data": {
      "text/plain": [
       "Word(total_docs=10, offset=6718364)"
      ]
     },
     "execution_count": 17,
     "metadata": {},
     "output_type": "execute_result"
    }
   ],
   "source": [
    "test_dictionary('heidelberg')"
   ]
  },
  {
   "cell_type": "markdown",
   "metadata": {},
   "source": [
    "#### Cesium"
   ]
  },
  {
   "cell_type": "code",
   "execution_count": 18,
   "metadata": {},
   "outputs": [
    {
     "data": {
      "text/plain": [
       "[Posting(doc_id=50020, word_freq=1),\n",
       " Posting(doc_id=280670, word_freq=1),\n",
       " Posting(doc_id=348144, word_freq=1),\n",
       " Posting(doc_id=391939, word_freq=1),\n",
       " Posting(doc_id=394780, word_freq=1)]"
      ]
     },
     "execution_count": 18,
     "metadata": {},
     "output_type": "execute_result"
    }
   ],
   "source": [
    "test_posting_list('cesium')"
   ]
  },
  {
   "cell_type": "code",
   "execution_count": 19,
   "metadata": {},
   "outputs": [
    {
     "data": {
      "text/plain": [
       "Word(total_docs=5, offset=3293152)"
      ]
     },
     "execution_count": 19,
     "metadata": {},
     "output_type": "execute_result"
    }
   ],
   "source": [
    "test_dictionary('cesium')"
   ]
  },
  {
   "cell_type": "markdown",
   "metadata": {},
   "source": [
    "#### Trondheim"
   ]
  },
  {
   "cell_type": "code",
   "execution_count": 20,
   "metadata": {},
   "outputs": [
    {
     "name": "stdout",
     "output_type": "stream",
     "text": [
      "Word is not in the postings list\n"
     ]
    }
   ],
   "source": [
    "test_posting_list('trondheim')"
   ]
  },
  {
   "cell_type": "code",
   "execution_count": 21,
   "metadata": {},
   "outputs": [
    {
     "name": "stdout",
     "output_type": "stream",
     "text": [
      "Word is not in the dictionary\n"
     ]
    }
   ],
   "source": [
    "test_dictionary('trondheim')"
   ]
  },
  {
   "cell_type": "markdown",
   "metadata": {},
   "source": [
    "#### Crustacean"
   ]
  },
  {
   "cell_type": "code",
   "execution_count": 22,
   "metadata": {},
   "outputs": [
    {
     "data": {
      "text/plain": [
       "[Posting(doc_id=230748, word_freq=1),\n",
       " Posting(doc_id=234924, word_freq=1),\n",
       " Posting(doc_id=426410, word_freq=1)]"
      ]
     },
     "execution_count": 22,
     "metadata": {},
     "output_type": "execute_result"
    }
   ],
   "source": [
    "test_posting_list('crustacean')"
   ]
  },
  {
   "cell_type": "code",
   "execution_count": 23,
   "metadata": {},
   "outputs": [
    {
     "data": {
      "text/plain": [
       "Word(total_docs=3, offset=4184008)"
      ]
     },
     "execution_count": 23,
     "metadata": {},
     "output_type": "execute_result"
    }
   ],
   "source": [
    "test_dictionary('crustacean')"
   ]
  },
  {
   "cell_type": "markdown",
   "metadata": {},
   "source": [
    "#### Hopkins"
   ]
  },
  {
   "cell_type": "code",
   "execution_count": 24,
   "metadata": {},
   "outputs": [
    {
     "name": "stdout",
     "output_type": "stream",
     "text": [
      "Word is not in the dictionary\n"
     ]
    }
   ],
   "source": [
    "test_dictionary('hopkins')"
   ]
  },
  {
   "cell_type": "markdown",
   "metadata": {},
   "source": [
    "#### Stanford"
   ]
  },
  {
   "cell_type": "code",
   "execution_count": 25,
   "metadata": {},
   "outputs": [
    {
     "data": {
      "text/plain": [
       "Word(total_docs=154, offset=12647660)"
      ]
     },
     "execution_count": 25,
     "metadata": {},
     "output_type": "execute_result"
    }
   ],
   "source": [
    "test_dictionary('stanford')"
   ]
  },
  {
   "cell_type": "markdown",
   "metadata": {},
   "source": [
    "#### Brown"
   ]
  },
  {
   "cell_type": "code",
   "execution_count": 26,
   "metadata": {},
   "outputs": [
    {
     "data": {
      "text/plain": [
       "Word(total_docs=1083, offset=2874332)"
      ]
     },
     "execution_count": 26,
     "metadata": {},
     "output_type": "execute_result"
    }
   ],
   "source": [
    "test_dictionary('brown')"
   ]
  },
  {
   "cell_type": "markdown",
   "metadata": {},
   "source": [
    "#### College"
   ]
  },
  {
   "cell_type": "code",
   "execution_count": 27,
   "metadata": {},
   "outputs": [
    {
     "name": "stdout",
     "output_type": "stream",
     "text": [
      "Word is not in the dictionary\n"
     ]
    }
   ],
   "source": [
    "test_dictionary('college')"
   ]
  },
  {
   "cell_type": "markdown",
   "metadata": {},
   "source": [
    "#### Elon and Musk"
   ]
  },
  {
   "cell_type": "code",
   "execution_count": 28,
   "metadata": {},
   "outputs": [],
   "source": [
    "#function to extract all docids that have a specific term from postings list\n",
    "def extractIDs(lst):\n",
    "    return [item[0] for item in lst]\n",
    "\n",
    "#all docids containing elon\n",
    "elon_id = extractIDs(postings_list['elon'])\n",
    "\n",
    "#all docids containing musk\n",
    "musk_id = extractIDs(postings_list['musk'])"
   ]
  },
  {
   "cell_type": "code",
   "execution_count": 29,
   "metadata": {},
   "outputs": [
    {
     "name": "stdout",
     "output_type": "stream",
     "text": [
      "The following 46 docids contain both \"elon\" and \"musk\": \n",
      "[3394, 16331, 19263, 21342, 29750, 44322, 45979, 52991, 57024, 57788, 84807, 98831, 115208, 122604, 127051, 128663, 131449, 131515, 146966, 159148, 186108, 194999, 197342, 239305, 240041, 245924, 249586, 274394, 283099, 297140, 303776, 305184, 306989, 341756, 342183, 354347, 369773, 383529, 399002, 399947, 420083, 431496, 431740, 449685, 456444, 482770]\n"
     ]
    }
   ],
   "source": [
    "# printing docids for documents that have both elon and musk by finding intersection of the elon and musk docid lists\n",
    "\n",
    "commonIDs = [i for i in elon_id and musk_id if i in elon_id and musk_id]\n",
    "\n",
    "print(f'The following {len(commonIDs)} docids contain both \"elon\" and \"musk\": ')\n",
    "print(commonIDs)"
   ]
  },
  {
   "attachments": {
    "image.png": {
     "image/png": "[encoded data removed]"
    }
   },
   "cell_type": "markdown",
   "metadata": {},
   "source": [
    "##### Screenshot of Postings List and Dictionary\n",
    "![image.png](attachment:image.png)"
   ]
  },
  {
   "cell_type": "markdown",
   "metadata": {},
   "source": [
    "### References\n",
    "https://stackoverflow.com/questions/36108621/get-all-html-tags-with-beautiful-soup\n",
    "\n",
    "https://stackoverflow.com/questions/8933863/how-to-find-tags-with-only-certain-attributes-beautifulsoup\n",
    "\n",
    "https://docs.python.org/3/library/collections.html\n",
    "\n",
    "https://docs.python.org/3/library/string.html\n",
    "\n",
    "https://www.geeksforgeeks.org/how-to-convert-int-to-bytes-in-python/\n",
    "\n",
    "https://towardsdatascience.com/python-pro-tip-start-using-python-defaultdict-and-counter-in-place-of-dictionary-d1922513f747\n",
    "\n",
    "https://realpython.com/python-namedtuple/\n",
    "\n",
    "https://medium.com/analytics-vidhya/python-list-vs-tuple-vs-dictionary-4a48655c7934\n",
    "\n",
    "https://stackoverflow.com/questions/8710456/reading-a-binary-file-with-python\n",
    "\n",
    "https://www.geeksforgeeks.org/how-to-get-file-size-in-python/"
   ]
  }
 ],
 "metadata": {
  "kernelspec": {
   "display_name": "Python 3",
   "language": "python",
   "name": "python3"
  },
  "language_info": {
   "codemirror_mode": {
    "name": "ipython",
    "version": 3
   },
   "file_extension": ".py",
   "mimetype": "text/x-python",
   "name": "python",
   "nbconvert_exporter": "python",
   "pygments_lexer": "ipython3",
   "version": "3.8.3"
  }
 },
 "nbformat": 4,
 "nbformat_minor": 4
}
